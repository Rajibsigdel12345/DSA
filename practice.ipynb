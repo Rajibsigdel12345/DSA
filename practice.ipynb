{
 "cells": [
  {
   "cell_type": "code",
   "execution_count": 2,
   "metadata": {},
   "outputs": [
    {
     "name": "stdout",
     "output_type": "stream",
     "text": [
      "[1, 2, 3, 4, 5, 6]\n",
      "[1, 3, 2, 5, 4, 6]\n"
     ]
    }
   ],
   "source": [
    "# Rearrange array so that even position contain smaller numbers\n",
    "def rearrange(arr):\n",
    "    for i in range(1,len(arr)):\n",
    "        if ((i-1)%2== 0 and arr[i-1]>arr[i]):\n",
    "            temp = arr[i-1]\n",
    "            arr[i-1] = arr[i]\n",
    "            arr[i] = temp\n",
    "        elif ((i-1)%2 !=0 and arr[i-1]<arr[i]):\n",
    "            temp = arr[i-1]\n",
    "            arr[i-1]= arr[i]\n",
    "            arr[i] = temp\n",
    "\n",
    "arr = [1,2,3,4,5,6]\n",
    "print(arr)\n",
    "rearrange(arr)\n",
    "print(arr)"
   ]
  },
  {
   "cell_type": "code",
   "execution_count": 4,
   "metadata": {},
   "outputs": [
    {
     "name": "stdout",
     "output_type": "stream",
     "text": [
      "[1, 0, 1, 0, 0, 1, 1, 0, 0]\n",
      "[0, 0, 0, 0, 0, 1, 1, 1, 1]\n"
     ]
    }
   ],
   "source": [
    "#segregate binary arrays\n",
    "def segregate(arr):\n",
    "    left = 0\n",
    "    right = len(arr)-1\n",
    "    while(left<right):\n",
    "        if (arr[left]==1):\n",
    "            if(arr[right]==0):\n",
    "                arr[right],arr[left] = arr[left],arr[right]\n",
    "            right -=1\n",
    "        else:\n",
    "            left +=1\n",
    "def check_binary(arr):\n",
    "    for i in arr:\n",
    "        if i not in (0,1):\n",
    "            e = \"pass binary array\"\n",
    "            raise Exception(e)\n",
    "    return arr\n",
    "binary_arr = [1,0,1,0,0,1,1,0,0]\n",
    "print(binary_arr)\n",
    "segregate(check_binary(binary_arr))\n",
    "print(binary_arr)"
   ]
  },
  {
   "cell_type": "code",
   "execution_count": 5,
   "metadata": {},
   "outputs": [
    {
     "name": "stdout",
     "output_type": "stream",
     "text": [
      "[1, 1, 1, 1, 0, 0, 0, 0, 0]\n",
      "[1, 7, 1, 2, 4, 5, 0, 0]\n"
     ]
    }
   ],
   "source": [
    "#Move zeros to end of array by creating new array\n",
    "def move_zeros(arr):\n",
    "    temp = [x for x in arr if x !=0]\n",
    "    len_arr = len(arr)\n",
    "    diff = len_arr- len(temp)\n",
    "    temp.extend([0]*diff)\n",
    "    return temp\n",
    "print(move_zeros(binary_arr))\n",
    "\n",
    "#Move zeros to end of arry without creating new array\n",
    "def move_zero(arr):\n",
    "    left , right = 0 , len(arr)-1\n",
    "    while(left<right):\n",
    "        if (arr [left]==0):\n",
    "            if (arr[right]!=0):\n",
    "                arr[left], arr[right] = arr[right], arr[left]\n",
    "            right -=1\n",
    "        else:\n",
    "            left +=1\n",
    "push_zero = [1,0,1,2,4,0,5,7]\n",
    "move_zero(push_zero)\n",
    "print(push_zero)"
   ]
  },
  {
   "cell_type": "code",
   "execution_count": 10,
   "metadata": {},
   "outputs": [
    {
     "name": "stdout",
     "output_type": "stream",
     "text": [
      "[-1, 1, 2, -1]\n"
     ]
    }
   ],
   "source": [
    "# put element into its correct position as index otherwise -1 in place\n",
    "def find_item_pos(arr):\n",
    "    for i in range(len(arr)):\n",
    "        if (i in arr and arr[i]!=i):\n",
    "            temp = arr.index(i)\n",
    "            arr[i] , arr[temp] = i, arr[i]\n",
    "        elif(i not in arr):\n",
    "          arr[i] = -1\n",
    "arr = [10,7,1,2]\n",
    "find_item_pos(arr)\n",
    "print(arr)"
   ]
  },
  {
   "cell_type": "code",
   "execution_count": null,
   "metadata": {},
   "outputs": [],
   "source": []
  }
 ],
 "metadata": {
  "kernelspec": {
   "display_name": "Python 3",
   "language": "python",
   "name": "python3"
  },
  "language_info": {
   "codemirror_mode": {
    "name": "ipython",
    "version": 3
   },
   "file_extension": ".py",
   "mimetype": "text/x-python",
   "name": "python",
   "nbconvert_exporter": "python",
   "pygments_lexer": "ipython3",
   "version": "3.10.11"
  }
 },
 "nbformat": 4,
 "nbformat_minor": 2
}
